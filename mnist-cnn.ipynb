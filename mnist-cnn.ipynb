{
 "cells": [
  {
   "cell_type": "code",
   "execution_count": 1,
   "id": "c9398b26",
   "metadata": {
    "_cell_guid": "b1076dfc-b9ad-4769-8c92-a6c4dae69d19",
    "_uuid": "8f2839f25d086af736a60e9eeb907d3b93b6e0e5",
    "execution": {
     "iopub.execute_input": "2022-07-11T10:08:45.247931Z",
     "iopub.status.busy": "2022-07-11T10:08:45.247260Z",
     "iopub.status.idle": "2022-07-11T10:08:45.260672Z",
     "shell.execute_reply": "2022-07-11T10:08:45.259644Z"
    },
    "papermill": {
     "duration": 0.03874,
     "end_time": "2022-07-11T10:08:45.263850",
     "exception": false,
     "start_time": "2022-07-11T10:08:45.225110",
     "status": "completed"
    },
    "tags": []
   },
   "outputs": [
    {
     "name": "stdout",
     "output_type": "stream",
     "text": [
      "/kaggle/input/digit-recognizer/sample_submission.csv\n",
      "/kaggle/input/digit-recognizer/train.csv\n",
      "/kaggle/input/digit-recognizer/test.csv\n"
     ]
    }
   ],
   "source": [
    "# This Python 3 environment comes with many helpful analytics libraries installed\n",
    "# It is defined by the kaggle/python Docker image: https://github.com/kaggle/docker-python\n",
    "# For example, here's several helpful packages to load\n",
    "\n",
    "import numpy as np # linear algebra\n",
    "import pandas as pd # data processing, CSV file I/O (e.g. pd.read_csv)\n",
    "\n",
    "# Input data files are available in the read-only \"../input/\" directory\n",
    "# For example, running this (by clicking run or pressing Shift+Enter) will list all files under the input directory\n",
    "\n",
    "import os\n",
    "for dirname, _, filenames in os.walk('/kaggle/input'):\n",
    "    for filename in filenames:\n",
    "        print(os.path.join(dirname, filename))\n",
    "\n",
    "# You can write up to 20GB to the current directory (/kaggle/working/) that gets preserved as output when you create a version using \"Save & Run All\" \n",
    "# You can also write temporary files to /kaggle/temp/, but they won't be saved outside of the current session"
   ]
  },
  {
   "cell_type": "code",
   "execution_count": 2,
   "id": "29b4f281",
   "metadata": {
    "execution": {
     "iopub.execute_input": "2022-07-11T10:08:45.309743Z",
     "iopub.status.busy": "2022-07-11T10:08:45.309402Z",
     "iopub.status.idle": "2022-07-11T10:08:53.061391Z",
     "shell.execute_reply": "2022-07-11T10:08:53.060596Z"
    },
    "papermill": {
     "duration": 7.776051,
     "end_time": "2022-07-11T10:08:53.063885",
     "exception": false,
     "start_time": "2022-07-11T10:08:45.287834",
     "status": "completed"
    },
    "tags": []
   },
   "outputs": [],
   "source": [
    "import tensorflow as tf\n",
    "from keras.models import Sequential\n",
    "from keras.layers import Dense, Flatten, Conv2D, Dropout, MaxPooling2D, BatchNormalization\n",
    "import numpy as np\n",
    "import matplotlib.pyplot as plt\n",
    "import pandas as pd\n",
    "from keras.callbacks import EarlyStopping\n",
    "from sklearn.model_selection import train_test_split"
   ]
  },
  {
   "cell_type": "code",
   "execution_count": 3,
   "id": "df717161",
   "metadata": {
    "execution": {
     "iopub.execute_input": "2022-07-11T10:08:53.105399Z",
     "iopub.status.busy": "2022-07-11T10:08:53.104243Z",
     "iopub.status.idle": "2022-07-11T10:08:58.864874Z",
     "shell.execute_reply": "2022-07-11T10:08:58.863811Z"
    },
    "papermill": {
     "duration": 5.784532,
     "end_time": "2022-07-11T10:08:58.867881",
     "exception": false,
     "start_time": "2022-07-11T10:08:53.083349",
     "status": "completed"
    },
    "tags": []
   },
   "outputs": [],
   "source": [
    "dtrain = pd.read_csv(\"../input/digit-recognizer/train.csv\")\n",
    "\n",
    "dtest = pd.read_csv(\"../input/digit-recognizer/test.csv\")\n",
    "\n",
    "df = pd.concat((dtrain, dtest))"
   ]
  },
  {
   "cell_type": "code",
   "execution_count": 4,
   "id": "e71c51ff",
   "metadata": {
    "execution": {
     "iopub.execute_input": "2022-07-11T10:08:58.910769Z",
     "iopub.status.busy": "2022-07-11T10:08:58.909648Z",
     "iopub.status.idle": "2022-07-11T10:09:00.027606Z",
     "shell.execute_reply": "2022-07-11T10:09:00.026539Z"
    },
    "papermill": {
     "duration": 1.14212,
     "end_time": "2022-07-11T10:09:00.030315",
     "exception": false,
     "start_time": "2022-07-11T10:08:58.888195",
     "status": "completed"
    },
    "tags": []
   },
   "outputs": [
    {
     "name": "stdout",
     "output_type": "stream",
     "text": [
      "(784,)\n"
     ]
    }
   ],
   "source": [
    "features = df.columns.drop('label')\n",
    "print(features.shape)\n",
    "\n",
    "dum = pd.get_dummies(df, columns=['label'])\n",
    "\n",
    "df = pd.concat([df['label'], dum], axis=1) "
   ]
  },
  {
   "cell_type": "code",
   "execution_count": 5,
   "id": "00d3225d",
   "metadata": {
    "execution": {
     "iopub.execute_input": "2022-07-11T10:09:00.074984Z",
     "iopub.status.busy": "2022-07-11T10:09:00.074600Z",
     "iopub.status.idle": "2022-07-11T10:09:00.086407Z",
     "shell.execute_reply": "2022-07-11T10:09:00.085353Z"
    },
    "papermill": {
     "duration": 0.036195,
     "end_time": "2022-07-11T10:09:00.089213",
     "exception": false,
     "start_time": "2022-07-11T10:09:00.053018",
     "status": "completed"
    },
    "tags": []
   },
   "outputs": [
    {
     "data": {
      "text/plain": [
       "label       1\n",
       "pixel0      0\n",
       "pixel1      0\n",
       "pixel2      0\n",
       "pixel3      0\n",
       "           ..\n",
       "pixel779    0\n",
       "pixel780    0\n",
       "pixel781    0\n",
       "pixel782    0\n",
       "pixel783    0\n",
       "Name: 0, Length: 785, dtype: int64"
      ]
     },
     "execution_count": 5,
     "metadata": {},
     "output_type": "execute_result"
    }
   ],
   "source": [
    "dtrain.loc[0] #1 label + 28*28 gray scale pixels--> 0==black, 255 == white"
   ]
  },
  {
   "cell_type": "code",
   "execution_count": 6,
   "id": "ef0f6738",
   "metadata": {
    "execution": {
     "iopub.execute_input": "2022-07-11T10:09:00.130524Z",
     "iopub.status.busy": "2022-07-11T10:09:00.130138Z",
     "iopub.status.idle": "2022-07-11T10:09:00.342923Z",
     "shell.execute_reply": "2022-07-11T10:09:00.342008Z"
    },
    "papermill": {
     "duration": 0.235991,
     "end_time": "2022-07-11T10:09:00.344983",
     "exception": false,
     "start_time": "2022-07-11T10:09:00.108992",
     "status": "completed"
    },
    "tags": []
   },
   "outputs": [
    {
     "name": "stdout",
     "output_type": "stream",
     "text": [
      "(28, 28)\n"
     ]
    },
    {
     "data": {
      "image/png": "[encoded data removed]",
      "text/plain": [
       "<Figure size 432x288 with 1 Axes>"
      ]
     },
     "metadata": {
      "needs_background": "light"
     },
     "output_type": "display_data"
    }
   ],
   "source": [
    "import matplotlib.image as img\n",
    "\n",
    "#image = img.imread(dtrain.loc[0])\n",
    "arr = np.asarray(np.array(dtest.loc[6]).reshape(-28, 28))\n",
    "print(arr.shape)\n",
    "plt.imshow(arr, cmap='gray', vmin=0, vmax=255)\n",
    "plt.show()"
   ]
  },
  {
   "cell_type": "code",
   "execution_count": 7,
   "id": "45d5065c",
   "metadata": {
    "execution": {
     "iopub.execute_input": "2022-07-11T10:09:00.390098Z",
     "iopub.status.busy": "2022-07-11T10:09:00.389735Z",
     "iopub.status.idle": "2022-07-11T10:09:00.396986Z",
     "shell.execute_reply": "2022-07-11T10:09:00.396082Z"
    },
    "papermill": {
     "duration": 0.032759,
     "end_time": "2022-07-11T10:09:00.399067",
     "exception": false,
     "start_time": "2022-07-11T10:09:00.366308",
     "status": "completed"
    },
    "tags": []
   },
   "outputs": [
    {
     "data": {
      "text/plain": [
       "8"
      ]
     },
     "execution_count": 7,
     "metadata": {},
     "output_type": "execute_result"
    }
   ],
   "source": [
    "dtrain.loc[1055][0]"
   ]
  },
  {
   "cell_type": "code",
   "execution_count": 8,
   "id": "1b2dd6b5",
   "metadata": {
    "execution": {
     "iopub.execute_input": "2022-07-11T10:09:00.446719Z",
     "iopub.status.busy": "2022-07-11T10:09:00.445729Z",
     "iopub.status.idle": "2022-07-11T10:09:01.898566Z",
     "shell.execute_reply": "2022-07-11T10:09:01.897656Z"
    },
    "papermill": {
     "duration": 1.480985,
     "end_time": "2022-07-11T10:09:01.901237",
     "exception": false,
     "start_time": "2022-07-11T10:09:00.420252",
     "status": "completed"
    },
    "tags": []
   },
   "outputs": [],
   "source": [
    "train = df[df['label'].notna()]\n",
    "test = df[df['label'].isna()]\n",
    "\n",
    "X_t, X_v, y_t, y_v = train_test_split(train[features]/255.0, train[['label_0.0', 'label_1.0', 'label_2.0', 'label_3.0', 'label_4.0',\n",
    "       'label_5.0', 'label_6.0', 'label_7.0', 'label_8.0', 'label_9.0']], test_size=0.01, random_state=22)\n"
   ]
  },
  {
   "cell_type": "code",
   "execution_count": 9,
   "id": "ccc3c368",
   "metadata": {
    "execution": {
     "iopub.execute_input": "2022-07-11T10:09:01.946649Z",
     "iopub.status.busy": "2022-07-11T10:09:01.945953Z",
     "iopub.status.idle": "2022-07-11T10:09:01.949956Z",
     "shell.execute_reply": "2022-07-11T10:09:01.949254Z"
    },
    "papermill": {
     "duration": 0.029288,
     "end_time": "2022-07-11T10:09:01.952111",
     "exception": false,
     "start_time": "2022-07-11T10:09:01.922823",
     "status": "completed"
    },
    "tags": []
   },
   "outputs": [],
   "source": [
    "early_stopping_monitor = EarlyStopping(patience=1)"
   ]
  },
  {
   "cell_type": "code",
   "execution_count": 10,
   "id": "47626a13",
   "metadata": {
    "execution": {
     "iopub.execute_input": "2022-07-11T10:09:01.998419Z",
     "iopub.status.busy": "2022-07-11T10:09:01.997768Z",
     "iopub.status.idle": "2022-07-11T10:09:02.001348Z",
     "shell.execute_reply": "2022-07-11T10:09:02.000703Z"
    },
    "papermill": {
     "duration": 0.029349,
     "end_time": "2022-07-11T10:09:02.003390",
     "exception": false,
     "start_time": "2022-07-11T10:09:01.974041",
     "status": "completed"
    },
    "tags": []
   },
   "outputs": [],
   "source": [
    "#model2 = Sequential()\n",
    "#model2.add(Conv2D(64, kernel_size=(5,5),input_shape=(28, 28, 1),activation='relu'))\n",
    "#model2.add(Conv2D(64, kernel_size=(3,3),activation='relu'))#,padding='same'\n",
    "#model2.add(Conv2D(64, kernel_size=(4,4),activation='relu'))\n",
    "#model2.add(Flatten())\n",
    "#model2.add(Dense(32, activation='tanh'))\n",
    "#model2.add(Dense(32, activation='tanh'))\n",
    "#model2.add(Dense(10, activation='softmax'))\n",
    "#model2.summary()"
   ]
  },
  {
   "cell_type": "code",
   "execution_count": 11,
   "id": "95855377",
   "metadata": {
    "execution": {
     "iopub.execute_input": "2022-07-11T10:09:02.048917Z",
     "iopub.status.busy": "2022-07-11T10:09:02.048589Z",
     "iopub.status.idle": "2022-07-11T10:09:02.244541Z",
     "shell.execute_reply": "2022-07-11T10:09:02.243404Z"
    },
    "papermill": {
     "duration": 0.223574,
     "end_time": "2022-07-11T10:09:02.249136",
     "exception": false,
     "start_time": "2022-07-11T10:09:02.025562",
     "status": "completed"
    },
    "tags": []
   },
   "outputs": [
    {
     "name": "stdout",
     "output_type": "stream",
     "text": [
      "Model: \"sequential\"\n",
      "_________________________________________________________________\n",
      "Layer (type)                 Output Shape              Param #   \n",
      "=================================================================\n",
      "conv2d (Conv2D)              (None, 24, 24, 64)        1664      \n",
      "_________________________________________________________________\n",
      "conv2d_1 (Conv2D)            (None, 22, 22, 128)       73856     \n",
      "_________________________________________________________________\n",
      "max_pooling2d (MaxPooling2D) (None, 11, 11, 128)       0         \n",
      "_________________________________________________________________\n",
      "conv2d_2 (Conv2D)            (None, 9, 9, 64)          73792     \n",
      "_________________________________________________________________\n",
      "dropout (Dropout)            (None, 9, 9, 64)          0         \n",
      "_________________________________________________________________\n",
      "flatten (Flatten)            (None, 5184)              0         \n",
      "_________________________________________________________________\n",
      "dense (Dense)                (None, 128)               663680    \n",
      "_________________________________________________________________\n",
      "dropout_1 (Dropout)          (None, 128)               0         \n",
      "_________________________________________________________________\n",
      "dense_1 (Dense)              (None, 10)                1290      \n",
      "=================================================================\n",
      "Total params: 814,282\n",
      "Trainable params: 814,282\n",
      "Non-trainable params: 0\n",
      "_________________________________________________________________\n"
     ]
    },
    {
     "name": "stderr",
     "output_type": "stream",
     "text": [
      "2022-07-11 10:09:02.090460: I tensorflow/core/common_runtime/process_util.cc:146] Creating new thread pool with default inter op setting: 2. Tune using inter_op_parallelism_threads for best performance.\n"
     ]
    }
   ],
   "source": [
    "num_classes = 10\n",
    "\n",
    "# define model as Sequential\n",
    "model = Sequential()\n",
    "\n",
    "# first convolutional layer with 32 filters\n",
    "model.add(Conv2D(64, kernel_size=(5, 5), activation='relu', input_shape=(28, 28, 1)))\n",
    "\n",
    "# add a second 2D convolutional layer with 64 filters\n",
    "model.add(Conv2D(128, kernel_size=(3,3), activation='relu'))\n",
    "\n",
    "model.add(MaxPooling2D(pool_size=(2,2)))\n",
    "\n",
    "# third convolutional layer with 64 filters\n",
    "model.add(Conv2D(64, kernel_size=(3, 3), activation='relu'))\n",
    "# add dropout to prevent over fitting\n",
    "model.add(Dropout(0.25))\n",
    "# necessary flatten step preceeding dense layer\n",
    "model.add(Flatten())\n",
    "# fully connected layer\n",
    "model.add(Dense(128, activation='relu'))\n",
    "\n",
    "# add additional dropout to prevent overfitting\n",
    "model.add(Dropout(0.5))\n",
    "\n",
    "# prediction layers\n",
    "model.add(Dense(num_classes, activation='softmax'))\n",
    "\n",
    "# show model summary\n",
    "model.summary()"
   ]
  },
  {
   "cell_type": "code",
   "execution_count": 12,
   "id": "8d55c9fd",
   "metadata": {
    "execution": {
     "iopub.execute_input": "2022-07-11T10:09:02.295407Z",
     "iopub.status.busy": "2022-07-11T10:09:02.295012Z",
     "iopub.status.idle": "2022-07-11T10:09:02.830527Z",
     "shell.execute_reply": "2022-07-11T10:09:02.829564Z"
    },
    "papermill": {
     "duration": 0.561902,
     "end_time": "2022-07-11T10:09:02.833208",
     "exception": false,
     "start_time": "2022-07-11T10:09:02.271306",
     "status": "completed"
    },
    "tags": []
   },
   "outputs": [],
   "source": [
    "opt = tf.optimizers.Adam(learning_rate=0.001)"
   ]
  },
  {
   "cell_type": "code",
   "execution_count": 13,
   "id": "1ee359b9",
   "metadata": {
    "execution": {
     "iopub.execute_input": "2022-07-11T10:09:02.881373Z",
     "iopub.status.busy": "2022-07-11T10:09:02.880080Z",
     "iopub.status.idle": "2022-07-11T10:09:02.895575Z",
     "shell.execute_reply": "2022-07-11T10:09:02.894728Z"
    },
    "papermill": {
     "duration": 0.041211,
     "end_time": "2022-07-11T10:09:02.897931",
     "exception": false,
     "start_time": "2022-07-11T10:09:02.856720",
     "status": "completed"
    },
    "tags": []
   },
   "outputs": [],
   "source": [
    "model.compile(optimizer=opt, loss='categorical_crossentropy',metrics=['accuracy'])"
   ]
  },
  {
   "cell_type": "code",
   "execution_count": 14,
   "id": "1f2d79be",
   "metadata": {
    "execution": {
     "iopub.execute_input": "2022-07-11T10:09:02.945214Z",
     "iopub.status.busy": "2022-07-11T10:09:02.944670Z",
     "iopub.status.idle": "2022-07-11T10:09:02.991327Z",
     "shell.execute_reply": "2022-07-11T10:09:02.990372Z"
    },
    "papermill": {
     "duration": 0.074069,
     "end_time": "2022-07-11T10:09:02.994049",
     "exception": false,
     "start_time": "2022-07-11T10:09:02.919980",
     "status": "completed"
    },
    "tags": []
   },
   "outputs": [
    {
     "data": {
      "text/html": [
       "<div>\n",
       "<style scoped>\n",
       "    .dataframe tbody tr th:only-of-type {\n",
       "        vertical-align: middle;\n",
       "    }\n",
       "\n",
       "    .dataframe tbody tr th {\n",
       "        vertical-align: top;\n",
       "    }\n",
       "\n",
       "    .dataframe thead th {\n",
       "        text-align: right;\n",
       "    }\n",
       "</style>\n",
       "<table border=\"1\" class=\"dataframe\">\n",
       "  <thead>\n",
       "    <tr style=\"text-align: right;\">\n",
       "      <th></th>\n",
       "      <th>pixel0</th>\n",
       "      <th>pixel1</th>\n",
       "      <th>pixel2</th>\n",
       "      <th>pixel3</th>\n",
       "      <th>pixel4</th>\n",
       "      <th>pixel5</th>\n",
       "      <th>pixel6</th>\n",
       "      <th>pixel7</th>\n",
       "      <th>pixel8</th>\n",
       "      <th>pixel9</th>\n",
       "      <th>...</th>\n",
       "      <th>pixel774</th>\n",
       "      <th>pixel775</th>\n",
       "      <th>pixel776</th>\n",
       "      <th>pixel777</th>\n",
       "      <th>pixel778</th>\n",
       "      <th>pixel779</th>\n",
       "      <th>pixel780</th>\n",
       "      <th>pixel781</th>\n",
       "      <th>pixel782</th>\n",
       "      <th>pixel783</th>\n",
       "    </tr>\n",
       "  </thead>\n",
       "  <tbody>\n",
       "    <tr>\n",
       "      <th>40746</th>\n",
       "      <td>0.0</td>\n",
       "      <td>0.0</td>\n",
       "      <td>0.0</td>\n",
       "      <td>0.0</td>\n",
       "      <td>0.0</td>\n",
       "      <td>0.0</td>\n",
       "      <td>0.0</td>\n",
       "      <td>0.0</td>\n",
       "      <td>0.0</td>\n",
       "      <td>0.0</td>\n",
       "      <td>...</td>\n",
       "      <td>0.0</td>\n",
       "      <td>0.0</td>\n",
       "      <td>0.0</td>\n",
       "      <td>0.0</td>\n",
       "      <td>0.0</td>\n",
       "      <td>0.0</td>\n",
       "      <td>0.0</td>\n",
       "      <td>0.0</td>\n",
       "      <td>0.0</td>\n",
       "      <td>0.0</td>\n",
       "    </tr>\n",
       "    <tr>\n",
       "      <th>27839</th>\n",
       "      <td>0.0</td>\n",
       "      <td>0.0</td>\n",
       "      <td>0.0</td>\n",
       "      <td>0.0</td>\n",
       "      <td>0.0</td>\n",
       "      <td>0.0</td>\n",
       "      <td>0.0</td>\n",
       "      <td>0.0</td>\n",
       "      <td>0.0</td>\n",
       "      <td>0.0</td>\n",
       "      <td>...</td>\n",
       "      <td>0.0</td>\n",
       "      <td>0.0</td>\n",
       "      <td>0.0</td>\n",
       "      <td>0.0</td>\n",
       "      <td>0.0</td>\n",
       "      <td>0.0</td>\n",
       "      <td>0.0</td>\n",
       "      <td>0.0</td>\n",
       "      <td>0.0</td>\n",
       "      <td>0.0</td>\n",
       "    </tr>\n",
       "    <tr>\n",
       "      <th>8902</th>\n",
       "      <td>0.0</td>\n",
       "      <td>0.0</td>\n",
       "      <td>0.0</td>\n",
       "      <td>0.0</td>\n",
       "      <td>0.0</td>\n",
       "      <td>0.0</td>\n",
       "      <td>0.0</td>\n",
       "      <td>0.0</td>\n",
       "      <td>0.0</td>\n",
       "      <td>0.0</td>\n",
       "      <td>...</td>\n",
       "      <td>0.0</td>\n",
       "      <td>0.0</td>\n",
       "      <td>0.0</td>\n",
       "      <td>0.0</td>\n",
       "      <td>0.0</td>\n",
       "      <td>0.0</td>\n",
       "      <td>0.0</td>\n",
       "      <td>0.0</td>\n",
       "      <td>0.0</td>\n",
       "      <td>0.0</td>\n",
       "    </tr>\n",
       "    <tr>\n",
       "      <th>18554</th>\n",
       "      <td>0.0</td>\n",
       "      <td>0.0</td>\n",
       "      <td>0.0</td>\n",
       "      <td>0.0</td>\n",
       "      <td>0.0</td>\n",
       "      <td>0.0</td>\n",
       "      <td>0.0</td>\n",
       "      <td>0.0</td>\n",
       "      <td>0.0</td>\n",
       "      <td>0.0</td>\n",
       "      <td>...</td>\n",
       "      <td>0.0</td>\n",
       "      <td>0.0</td>\n",
       "      <td>0.0</td>\n",
       "      <td>0.0</td>\n",
       "      <td>0.0</td>\n",
       "      <td>0.0</td>\n",
       "      <td>0.0</td>\n",
       "      <td>0.0</td>\n",
       "      <td>0.0</td>\n",
       "      <td>0.0</td>\n",
       "    </tr>\n",
       "    <tr>\n",
       "      <th>4711</th>\n",
       "      <td>0.0</td>\n",
       "      <td>0.0</td>\n",
       "      <td>0.0</td>\n",
       "      <td>0.0</td>\n",
       "      <td>0.0</td>\n",
       "      <td>0.0</td>\n",
       "      <td>0.0</td>\n",
       "      <td>0.0</td>\n",
       "      <td>0.0</td>\n",
       "      <td>0.0</td>\n",
       "      <td>...</td>\n",
       "      <td>0.0</td>\n",
       "      <td>0.0</td>\n",
       "      <td>0.0</td>\n",
       "      <td>0.0</td>\n",
       "      <td>0.0</td>\n",
       "      <td>0.0</td>\n",
       "      <td>0.0</td>\n",
       "      <td>0.0</td>\n",
       "      <td>0.0</td>\n",
       "      <td>0.0</td>\n",
       "    </tr>\n",
       "    <tr>\n",
       "      <th>...</th>\n",
       "      <td>...</td>\n",
       "      <td>...</td>\n",
       "      <td>...</td>\n",
       "      <td>...</td>\n",
       "      <td>...</td>\n",
       "      <td>...</td>\n",
       "      <td>...</td>\n",
       "      <td>...</td>\n",
       "      <td>...</td>\n",
       "      <td>...</td>\n",
       "      <td>...</td>\n",
       "      <td>...</td>\n",
       "      <td>...</td>\n",
       "      <td>...</td>\n",
       "      <td>...</td>\n",
       "      <td>...</td>\n",
       "      <td>...</td>\n",
       "      <td>...</td>\n",
       "      <td>...</td>\n",
       "      <td>...</td>\n",
       "      <td>...</td>\n",
       "    </tr>\n",
       "    <tr>\n",
       "      <th>20971</th>\n",
       "      <td>0.0</td>\n",
       "      <td>0.0</td>\n",
       "      <td>0.0</td>\n",
       "      <td>0.0</td>\n",
       "      <td>0.0</td>\n",
       "      <td>0.0</td>\n",
       "      <td>0.0</td>\n",
       "      <td>0.0</td>\n",
       "      <td>0.0</td>\n",
       "      <td>0.0</td>\n",
       "      <td>...</td>\n",
       "      <td>0.0</td>\n",
       "      <td>0.0</td>\n",
       "      <td>0.0</td>\n",
       "      <td>0.0</td>\n",
       "      <td>0.0</td>\n",
       "      <td>0.0</td>\n",
       "      <td>0.0</td>\n",
       "      <td>0.0</td>\n",
       "      <td>0.0</td>\n",
       "      <td>0.0</td>\n",
       "    </tr>\n",
       "    <tr>\n",
       "      <th>23030</th>\n",
       "      <td>0.0</td>\n",
       "      <td>0.0</td>\n",
       "      <td>0.0</td>\n",
       "      <td>0.0</td>\n",
       "      <td>0.0</td>\n",
       "      <td>0.0</td>\n",
       "      <td>0.0</td>\n",
       "      <td>0.0</td>\n",
       "      <td>0.0</td>\n",
       "      <td>0.0</td>\n",
       "      <td>...</td>\n",
       "      <td>0.0</td>\n",
       "      <td>0.0</td>\n",
       "      <td>0.0</td>\n",
       "      <td>0.0</td>\n",
       "      <td>0.0</td>\n",
       "      <td>0.0</td>\n",
       "      <td>0.0</td>\n",
       "      <td>0.0</td>\n",
       "      <td>0.0</td>\n",
       "      <td>0.0</td>\n",
       "    </tr>\n",
       "    <tr>\n",
       "      <th>24932</th>\n",
       "      <td>0.0</td>\n",
       "      <td>0.0</td>\n",
       "      <td>0.0</td>\n",
       "      <td>0.0</td>\n",
       "      <td>0.0</td>\n",
       "      <td>0.0</td>\n",
       "      <td>0.0</td>\n",
       "      <td>0.0</td>\n",
       "      <td>0.0</td>\n",
       "      <td>0.0</td>\n",
       "      <td>...</td>\n",
       "      <td>0.0</td>\n",
       "      <td>0.0</td>\n",
       "      <td>0.0</td>\n",
       "      <td>0.0</td>\n",
       "      <td>0.0</td>\n",
       "      <td>0.0</td>\n",
       "      <td>0.0</td>\n",
       "      <td>0.0</td>\n",
       "      <td>0.0</td>\n",
       "      <td>0.0</td>\n",
       "    </tr>\n",
       "    <tr>\n",
       "      <th>31680</th>\n",
       "      <td>0.0</td>\n",
       "      <td>0.0</td>\n",
       "      <td>0.0</td>\n",
       "      <td>0.0</td>\n",
       "      <td>0.0</td>\n",
       "      <td>0.0</td>\n",
       "      <td>0.0</td>\n",
       "      <td>0.0</td>\n",
       "      <td>0.0</td>\n",
       "      <td>0.0</td>\n",
       "      <td>...</td>\n",
       "      <td>0.0</td>\n",
       "      <td>0.0</td>\n",
       "      <td>0.0</td>\n",
       "      <td>0.0</td>\n",
       "      <td>0.0</td>\n",
       "      <td>0.0</td>\n",
       "      <td>0.0</td>\n",
       "      <td>0.0</td>\n",
       "      <td>0.0</td>\n",
       "      <td>0.0</td>\n",
       "    </tr>\n",
       "    <tr>\n",
       "      <th>29484</th>\n",
       "      <td>0.0</td>\n",
       "      <td>0.0</td>\n",
       "      <td>0.0</td>\n",
       "      <td>0.0</td>\n",
       "      <td>0.0</td>\n",
       "      <td>0.0</td>\n",
       "      <td>0.0</td>\n",
       "      <td>0.0</td>\n",
       "      <td>0.0</td>\n",
       "      <td>0.0</td>\n",
       "      <td>...</td>\n",
       "      <td>0.0</td>\n",
       "      <td>0.0</td>\n",
       "      <td>0.0</td>\n",
       "      <td>0.0</td>\n",
       "      <td>0.0</td>\n",
       "      <td>0.0</td>\n",
       "      <td>0.0</td>\n",
       "      <td>0.0</td>\n",
       "      <td>0.0</td>\n",
       "      <td>0.0</td>\n",
       "    </tr>\n",
       "  </tbody>\n",
       "</table>\n",
       "<p>41580 rows × 784 columns</p>\n",
       "</div>"
      ],
      "text/plain": [
       "       pixel0  pixel1  pixel2  pixel3  pixel4  pixel5  pixel6  pixel7  pixel8  \\\n",
       "40746     0.0     0.0     0.0     0.0     0.0     0.0     0.0     0.0     0.0   \n",
       "27839     0.0     0.0     0.0     0.0     0.0     0.0     0.0     0.0     0.0   \n",
       "8902      0.0     0.0     0.0     0.0     0.0     0.0     0.0     0.0     0.0   \n",
       "18554     0.0     0.0     0.0     0.0     0.0     0.0     0.0     0.0     0.0   \n",
       "4711      0.0     0.0     0.0     0.0     0.0     0.0     0.0     0.0     0.0   \n",
       "...       ...     ...     ...     ...     ...     ...     ...     ...     ...   \n",
       "20971     0.0     0.0     0.0     0.0     0.0     0.0     0.0     0.0     0.0   \n",
       "23030     0.0     0.0     0.0     0.0     0.0     0.0     0.0     0.0     0.0   \n",
       "24932     0.0     0.0     0.0     0.0     0.0     0.0     0.0     0.0     0.0   \n",
       "31680     0.0     0.0     0.0     0.0     0.0     0.0     0.0     0.0     0.0   \n",
       "29484     0.0     0.0     0.0     0.0     0.0     0.0     0.0     0.0     0.0   \n",
       "\n",
       "       pixel9  ...  pixel774  pixel775  pixel776  pixel777  pixel778  \\\n",
       "40746     0.0  ...       0.0       0.0       0.0       0.0       0.0   \n",
       "27839     0.0  ...       0.0       0.0       0.0       0.0       0.0   \n",
       "8902      0.0  ...       0.0       0.0       0.0       0.0       0.0   \n",
       "18554     0.0  ...       0.0       0.0       0.0       0.0       0.0   \n",
       "4711      0.0  ...       0.0       0.0       0.0       0.0       0.0   \n",
       "...       ...  ...       ...       ...       ...       ...       ...   \n",
       "20971     0.0  ...       0.0       0.0       0.0       0.0       0.0   \n",
       "23030     0.0  ...       0.0       0.0       0.0       0.0       0.0   \n",
       "24932     0.0  ...       0.0       0.0       0.0       0.0       0.0   \n",
       "31680     0.0  ...       0.0       0.0       0.0       0.0       0.0   \n",
       "29484     0.0  ...       0.0       0.0       0.0       0.0       0.0   \n",
       "\n",
       "       pixel779  pixel780  pixel781  pixel782  pixel783  \n",
       "40746       0.0       0.0       0.0       0.0       0.0  \n",
       "27839       0.0       0.0       0.0       0.0       0.0  \n",
       "8902        0.0       0.0       0.0       0.0       0.0  \n",
       "18554       0.0       0.0       0.0       0.0       0.0  \n",
       "4711        0.0       0.0       0.0       0.0       0.0  \n",
       "...         ...       ...       ...       ...       ...  \n",
       "20971       0.0       0.0       0.0       0.0       0.0  \n",
       "23030       0.0       0.0       0.0       0.0       0.0  \n",
       "24932       0.0       0.0       0.0       0.0       0.0  \n",
       "31680       0.0       0.0       0.0       0.0       0.0  \n",
       "29484       0.0       0.0       0.0       0.0       0.0  \n",
       "\n",
       "[41580 rows x 784 columns]"
      ]
     },
     "execution_count": 14,
     "metadata": {},
     "output_type": "execute_result"
    }
   ],
   "source": [
    "X_t"
   ]
  },
  {
   "cell_type": "code",
   "execution_count": 15,
   "id": "6b869315",
   "metadata": {
    "execution": {
     "iopub.execute_input": "2022-07-11T10:09:03.041468Z",
     "iopub.status.busy": "2022-07-11T10:09:03.040763Z",
     "iopub.status.idle": "2022-07-11T10:14:21.989280Z",
     "shell.execute_reply": "2022-07-11T10:14:21.988591Z"
    },
    "papermill": {
     "duration": 318.974554,
     "end_time": "2022-07-11T10:14:21.991188",
     "exception": false,
     "start_time": "2022-07-11T10:09:03.016634",
     "status": "completed"
    },
    "tags": []
   },
   "outputs": [
    {
     "name": "stderr",
     "output_type": "stream",
     "text": [
      "2022-07-11 10:09:03.585747: I tensorflow/compiler/mlir/mlir_graph_optimization_pass.cc:185] None of the MLIR Optimization Passes are enabled (registered 2)\n"
     ]
    },
    {
     "name": "stdout",
     "output_type": "stream",
     "text": [
      "Epoch 1/3\n",
      "650/650 [==============================] - 105s 161ms/step - loss: 0.2275 - accuracy: 0.9291\n",
      "Epoch 2/3\n",
      "650/650 [==============================] - 109s 167ms/step - loss: 0.0787 - accuracy: 0.9775\n",
      "Epoch 3/3\n",
      "650/650 [==============================] - 105s 161ms/step - loss: 0.0587 - accuracy: 0.9829\n"
     ]
    },
    {
     "data": {
      "text/plain": [
       "<keras.callbacks.History at 0x7fe47decc810>"
      ]
     },
     "execution_count": 15,
     "metadata": {},
     "output_type": "execute_result"
    }
   ],
   "source": [
    "model.fit(np.array(X_t).reshape(41580,-28,28,1), y_t, epochs=3, batch_size=64, callbacks=[early_stopping_monitor])"
   ]
  },
  {
   "cell_type": "code",
   "execution_count": 16,
   "id": "d7255a4d",
   "metadata": {
    "execution": {
     "iopub.execute_input": "2022-07-11T10:14:23.135287Z",
     "iopub.status.busy": "2022-07-11T10:14:23.134910Z",
     "iopub.status.idle": "2022-07-11T10:14:23.140818Z",
     "shell.execute_reply": "2022-07-11T10:14:23.140084Z"
    },
    "papermill": {
     "duration": 0.582084,
     "end_time": "2022-07-11T10:14:23.142658",
     "exception": false,
     "start_time": "2022-07-11T10:14:22.560574",
     "status": "completed"
    },
    "tags": []
   },
   "outputs": [
    {
     "data": {
      "text/plain": [
       "(420, 10)"
      ]
     },
     "execution_count": 16,
     "metadata": {},
     "output_type": "execute_result"
    }
   ],
   "source": [
    "y_v.shape"
   ]
  },
  {
   "cell_type": "code",
   "execution_count": 17,
   "id": "9893b4d4",
   "metadata": {
    "execution": {
     "iopub.execute_input": "2022-07-11T10:14:24.287458Z",
     "iopub.status.busy": "2022-07-11T10:14:24.286762Z",
     "iopub.status.idle": "2022-07-11T10:14:24.939015Z",
     "shell.execute_reply": "2022-07-11T10:14:24.937869Z"
    },
    "papermill": {
     "duration": 1.226861,
     "end_time": "2022-07-11T10:14:24.941705",
     "exception": false,
     "start_time": "2022-07-11T10:14:23.714844",
     "status": "completed"
    },
    "tags": []
   },
   "outputs": [
    {
     "name": "stdout",
     "output_type": "stream",
     "text": [
      "14/14 [==============================] - 1s 25ms/step - loss: 0.0116 - accuracy: 0.9976\n"
     ]
    },
    {
     "data": {
      "text/plain": [
       "[0.011630161665380001, 0.9976190328598022]"
      ]
     },
     "execution_count": 17,
     "metadata": {},
     "output_type": "execute_result"
    }
   ],
   "source": [
    "model.evaluate(np.array(X_v).reshape(420,-28,28,1), y_v)"
   ]
  },
  {
   "cell_type": "code",
   "execution_count": 18,
   "id": "46dea954",
   "metadata": {
    "execution": {
     "iopub.execute_input": "2022-07-11T10:14:26.148885Z",
     "iopub.status.busy": "2022-07-11T10:14:26.148533Z",
     "iopub.status.idle": "2022-07-11T10:14:26.157111Z",
     "shell.execute_reply": "2022-07-11T10:14:26.156425Z"
    },
    "papermill": {
     "duration": 0.606102,
     "end_time": "2022-07-11T10:14:26.158981",
     "exception": false,
     "start_time": "2022-07-11T10:14:25.552879",
     "status": "completed"
    },
    "tags": []
   },
   "outputs": [
    {
     "data": {
      "text/plain": [
       "0            1\n",
       "1            2\n",
       "2            3\n",
       "3            4\n",
       "4            5\n",
       "         ...  \n",
       "27995    27996\n",
       "27996    27997\n",
       "27997    27998\n",
       "27998    27999\n",
       "27999    28000\n",
       "Name: ImageId, Length: 28000, dtype: int64"
      ]
     },
     "execution_count": 18,
     "metadata": {},
     "output_type": "execute_result"
    }
   ],
   "source": [
    "pd.Series(range(1,28001),name = \"ImageId\")"
   ]
  },
  {
   "cell_type": "code",
   "execution_count": 19,
   "id": "4c473dcd",
   "metadata": {
    "execution": {
     "iopub.execute_input": "2022-07-11T10:14:27.326498Z",
     "iopub.status.busy": "2022-07-11T10:14:27.325831Z",
     "iopub.status.idle": "2022-07-11T10:14:27.330924Z",
     "shell.execute_reply": "2022-07-11T10:14:27.330361Z"
    },
    "papermill": {
     "duration": 0.593671,
     "end_time": "2022-07-11T10:14:27.332742",
     "exception": false,
     "start_time": "2022-07-11T10:14:26.739071",
     "status": "completed"
    },
    "tags": []
   },
   "outputs": [
    {
     "data": {
      "text/plain": [
       "(28000, 795)"
      ]
     },
     "execution_count": 19,
     "metadata": {},
     "output_type": "execute_result"
    }
   ],
   "source": [
    "test.shape"
   ]
  },
  {
   "cell_type": "code",
   "execution_count": 20,
   "id": "37f13706",
   "metadata": {
    "execution": {
     "iopub.execute_input": "2022-07-11T10:14:28.484442Z",
     "iopub.status.busy": "2022-07-11T10:14:28.484065Z",
     "iopub.status.idle": "2022-07-11T10:14:50.640938Z",
     "shell.execute_reply": "2022-07-11T10:14:50.639786Z"
    },
    "papermill": {
     "duration": 22.741744,
     "end_time": "2022-07-11T10:14:50.643802",
     "exception": false,
     "start_time": "2022-07-11T10:14:27.902058",
     "status": "completed"
    },
    "tags": []
   },
   "outputs": [],
   "source": [
    "results = model.predict(np.array(test[features]).reshape(28000,-28,28,1)).tolist()\n",
    "pre1 = []\n",
    "for i in range(len(results)):\n",
    "    pre1.append(results[i].index(max(results[i])))"
   ]
  },
  {
   "cell_type": "code",
   "execution_count": 21,
   "id": "0133ea66",
   "metadata": {
    "execution": {
     "iopub.execute_input": "2022-07-11T10:14:51.886378Z",
     "iopub.status.busy": "2022-07-11T10:14:51.885474Z",
     "iopub.status.idle": "2022-07-11T10:14:51.899449Z",
     "shell.execute_reply": "2022-07-11T10:14:51.898548Z"
    },
    "papermill": {
     "duration": 0.680641,
     "end_time": "2022-07-11T10:14:51.902104",
     "exception": false,
     "start_time": "2022-07-11T10:14:51.221463",
     "status": "completed"
    },
    "tags": []
   },
   "outputs": [
    {
     "name": "stdout",
     "output_type": "stream",
     "text": [
      "0    2\n",
      "1    0\n",
      "2    9\n",
      "3    9\n",
      "4    3\n",
      "5    7\n",
      "6    0\n",
      "7    3\n",
      "8    0\n",
      "9    3\n",
      "Name: Label, dtype: int64\n"
     ]
    }
   ],
   "source": [
    "pre1 = pd.Series(pre1, name=\"Label\")\n",
    "#pre1.columns = ['Label']\n",
    "print(pre1[:10])"
   ]
  },
  {
   "cell_type": "code",
   "execution_count": 22,
   "id": "bd8fed84",
   "metadata": {
    "execution": {
     "iopub.execute_input": "2022-07-11T10:14:53.064614Z",
     "iopub.status.busy": "2022-07-11T10:14:53.064228Z",
     "iopub.status.idle": "2022-07-11T10:14:53.101236Z",
     "shell.execute_reply": "2022-07-11T10:14:53.100529Z"
    },
    "papermill": {
     "duration": 0.619787,
     "end_time": "2022-07-11T10:14:53.103707",
     "exception": false,
     "start_time": "2022-07-11T10:14:52.483920",
     "status": "completed"
    },
    "tags": []
   },
   "outputs": [],
   "source": [
    "submission = pd.concat([pd.Series(range(1,28001),name = \"ImageId\"),pre1],axis = 1) #, columns=['ImageId','Label'])\n",
    "\n",
    "submission.to_csv(\"submission.csv\",index=False)"
   ]
  },
  {
   "cell_type": "code",
   "execution_count": 23,
   "id": "9f779889",
   "metadata": {
    "execution": {
     "iopub.execute_input": "2022-07-11T10:14:54.251460Z",
     "iopub.status.busy": "2022-07-11T10:14:54.250291Z",
     "iopub.status.idle": "2022-07-11T10:14:54.259280Z",
     "shell.execute_reply": "2022-07-11T10:14:54.258656Z"
    },
    "papermill": {
     "duration": 0.58416,
     "end_time": "2022-07-11T10:14:54.261136",
     "exception": false,
     "start_time": "2022-07-11T10:14:53.676976",
     "status": "completed"
    },
    "tags": []
   },
   "outputs": [
    {
     "data": {
      "text/html": [
       "<div>\n",
       "<style scoped>\n",
       "    .dataframe tbody tr th:only-of-type {\n",
       "        vertical-align: middle;\n",
       "    }\n",
       "\n",
       "    .dataframe tbody tr th {\n",
       "        vertical-align: top;\n",
       "    }\n",
       "\n",
       "    .dataframe thead th {\n",
       "        text-align: right;\n",
       "    }\n",
       "</style>\n",
       "<table border=\"1\" class=\"dataframe\">\n",
       "  <thead>\n",
       "    <tr style=\"text-align: right;\">\n",
       "      <th></th>\n",
       "      <th>ImageId</th>\n",
       "      <th>Label</th>\n",
       "    </tr>\n",
       "  </thead>\n",
       "  <tbody>\n",
       "    <tr>\n",
       "      <th>0</th>\n",
       "      <td>1</td>\n",
       "      <td>2</td>\n",
       "    </tr>\n",
       "    <tr>\n",
       "      <th>1</th>\n",
       "      <td>2</td>\n",
       "      <td>0</td>\n",
       "    </tr>\n",
       "    <tr>\n",
       "      <th>2</th>\n",
       "      <td>3</td>\n",
       "      <td>9</td>\n",
       "    </tr>\n",
       "    <tr>\n",
       "      <th>3</th>\n",
       "      <td>4</td>\n",
       "      <td>9</td>\n",
       "    </tr>\n",
       "    <tr>\n",
       "      <th>4</th>\n",
       "      <td>5</td>\n",
       "      <td>3</td>\n",
       "    </tr>\n",
       "  </tbody>\n",
       "</table>\n",
       "</div>"
      ],
      "text/plain": [
       "   ImageId  Label\n",
       "0        1      2\n",
       "1        2      0\n",
       "2        3      9\n",
       "3        4      9\n",
       "4        5      3"
      ]
     },
     "execution_count": 23,
     "metadata": {},
     "output_type": "execute_result"
    }
   ],
   "source": [
    "submission.head()"
   ]
  },
  {
   "cell_type": "code",
   "execution_count": null,
   "id": "578e6077",
   "metadata": {
    "papermill": {
     "duration": 0.57203,
     "end_time": "2022-07-11T10:14:55.420172",
     "exception": false,
     "start_time": "2022-07-11T10:14:54.848142",
     "status": "completed"
    },
    "tags": []
   },
   "outputs": [],
   "source": []
  }
 ],
 "metadata": {
  "kernelspec": {
   "display_name": "Python 3",
   "language": "python",
   "name": "python3"
  },
  "language_info": {
   "codemirror_mode": {
    "name": "ipython",
    "version": 3
   },
   "file_extension": ".py",
   "mimetype": "text/x-python",
   "name": "python",
   "nbconvert_exporter": "python",
   "pygments_lexer": "ipython3",
   "version": "3.7.12"
  },
  "papermill": {
   "default_parameters": {},
   "duration": 384.367336,
   "end_time": "2022-07-11T10:14:59.588577",
   "environment_variables": {},
   "exception": null,
   "input_path": "__notebook__.ipynb",
   "output_path": "__notebook__.ipynb",
   "parameters": {},
   "start_time": "2022-07-11T10:08:35.221241",
   "version": "2.3.4"
  }
 },
 "nbformat": 4,
 "nbformat_minor": 5
}
